{
 "cells": [
  {
   "cell_type": "code",
   "execution_count": 1,
   "metadata": {},
   "outputs": [],
   "source": [
    "def graficarVectores(vecs, cols, alpha = 1):\n",
    "    \n",
    "    plt.figure()\n",
    "    plt.axvline(x=0, color = 'grey', zorder = 0)\n",
    "    plt.axhline(y=0, color = 'grey', zorder = 0)\n",
    "    \n",
    "    for i in range(len(vecs)):\n",
    "        # cuando queremos graficar un vector lo estamos haciando dentro de nuestro sistema de ejes cartesianos\n",
    "        # para poder graficar un vector necesitamos decir cuales es el origen \n",
    "        # y lo que estamos haciendo es decir que todos los vectores van a tener como origen el [0,0]\n",
    "        x = np.concatenate([[0,0], vecs[i]])\n",
    "        plt.quiver([x[0]],\n",
    "                   [x[1]],\n",
    "                   [x[2]],\n",
    "                   [x[3]],\n",
    "                   angles='xy', scale_units = 'xy', scale=1, color =cols[i],\n",
    "                   alpha= alpha)"
   ]
  }
 ],
 "metadata": {
  "kernelspec": {
   "display_name": "Python 3",
   "language": "python",
   "name": "python3"
  },
  "language_info": {
   "codemirror_mode": {
    "name": "ipython",
    "version": 3
   },
   "file_extension": ".py",
   "mimetype": "text/x-python",
   "name": "python",
   "nbconvert_exporter": "python",
   "pygments_lexer": "ipython3",
   "version": "3.7.9"
  }
 },
 "nbformat": 4,
 "nbformat_minor": 4
}
